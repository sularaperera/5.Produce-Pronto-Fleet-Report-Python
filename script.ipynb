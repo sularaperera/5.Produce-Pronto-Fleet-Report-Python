{
 "cells": [
  {
   "cell_type": "markdown",
   "metadata": {},
   "source": [
    "# Code"
   ]
  },
  {
   "cell_type": "code",
   "execution_count": 1,
   "metadata": {},
   "outputs": [],
   "source": [
    "import pandas as pd\n",
    "from pathlib import Path\n",
    "import re\n",
    "import glob\n",
    "from datetime import datetime"
   ]
  },
  {
   "cell_type": "code",
   "execution_count": null,
   "metadata": {},
   "outputs": [],
   "source": [
    "folder_path = Path(r'./data/')\n",
    "file = list(folder_path.rglob('*Fleetpin*.csv'))\n",
    "df = pd.read_csv(file[0], usecols=('Name', 'Odo / Hours / Hubo', 'Next Service Due', 'RUC Due', 'WoF Due', 'Rego Due'))\n"
   ]
  },
  {
   "cell_type": "code",
   "execution_count": null,
   "metadata": {},
   "outputs": [],
   "source": [
    "df.head()"
   ]
  },
  {
   "cell_type": "code",
   "execution_count": null,
   "metadata": {},
   "outputs": [],
   "source": [
    "df.dtypes"
   ]
  },
  {
   "cell_type": "code",
   "execution_count": null,
   "metadata": {},
   "outputs": [],
   "source": [
    "# convert 'WoF Due' and 'Rego Due' data from string to datetime\n",
    "df['WoF Due'] = pd.to_datetime(df['WoF Due'], dayfirst=True)\n",
    "df['Rego Due'] = pd.to_datetime(df['Rego Due'], dayfirst=True)\n",
    "\n",
    "# get today's date for comparison\n",
    "today = datetime.now().date()\n",
    "# subtract 'WoF Due' date from today's date to get days remaining for WOF Renewal\n",
    "df['WOF Renew in days'] = (df['WoF Due'] - pd.Timestamp(today)).dt.days\n",
    "df['Rego Renew in days'] = (df['Rego Due'] - pd.Timestamp(today)).dt.days\n",
    "\n",
    "\n",
    "# cleaning data by removing characters from numbers using regex\n",
    "df['Odo / Hours / Hubo'] = pd.Series(df['Odo / Hours / Hubo']).str.findall(r'\\d+')\n",
    "# get rid of list-like structure to strings where the elements are joined by comma\n",
    "df['Odo / Hours / Hubo'] = [','.join(map(str, l)) for l in df['Odo / Hours / Hubo']]\n",
    "\n",
    "df['ODO'] = df['Odo / Hours / Hubo'].apply(lambda x: x.split(',')[0])\n",
    "df['Hubometer'] = df['Odo / Hours / Hubo'].apply(lambda x: x.split(',')[-1])\n",
    "\n",
    "df['Next Service Due'] = pd.Series(df['Next Service Due']).str.strip('km')\n",
    "\n",
    "df['RUC Due'] = pd.Series(df['RUC Due']).str.findall(r'\\b\\d+\\b')\n",
    "df['RUC Due']  = [','.join(map(str, l)) for l in df['RUC Due'] ]\n",
    "\n",
    "df['Next Service Due'] = df['Next Service Due'].apply(lambda x: int(x))\n",
    "df['RUC Due'] = df['RUC Due'].apply(lambda x: int(x))\n",
    "df['ODO'] = df['ODO'].apply(lambda x: int(x))\n",
    "df['Hubometer'] = df['Hubometer'].apply(lambda x: int(x))\n",
    "\n",
    "\n",
    "df['RUC Due In Kms'] = df['RUC Due'] - df['Hubometer']\n",
    "df['Service Due In Kms'] = df['Next Service Due'] - df['ODO']\n",
    "\n",
    "df.head()"
   ]
  },
  {
   "cell_type": "code",
   "execution_count": null,
   "metadata": {},
   "outputs": [],
   "source": [
    "df.dtypes"
   ]
  },
  {
   "cell_type": "code",
   "execution_count": null,
   "metadata": {},
   "outputs": [],
   "source": [
    "# column re-ordering\n",
    "df = df[['Name','ODO','Hubometer','Next Service Due','RUC Due','WoF Due','Rego Due','Service Due In Kms','WOF Renew in days','Rego Renew in days','RUC Due In Kms']]\n",
    "# df = df.set_index('Name', drop=True)\n",
    "\n",
    "\n"
   ]
  },
  {
   "cell_type": "markdown",
   "metadata": {},
   "source": [
    "# Report"
   ]
  },
  {
   "cell_type": "code",
   "execution_count": null,
   "metadata": {},
   "outputs": [],
   "source": [
    "# columns_to_highlight = ['WOF Renew in days']\n",
    "\n",
    "\n",
    "df.style\\\n",
    "    .highlight_between(subset='WOF Renew in days',left=0,right=30, color='lime')\\\n",
    "    .highlight_between(subset='WOF Renew in days',left=-1000,right=0, color='tomato')\\\n",
    "    .highlight_between(subset='RUC Due In Kms',left=0,right=5000, color='lime')\\\n",
    "    .highlight_between(subset='Service Due In Kms',left=0,right=2000, color='lime')\\\n",
    "    .highlight_between(subset='Service Due In Kms',left=-25000,right=0, color='tomato')\\\n",
    "    .highlight_between(subset='Rego Renew in days',left=0,right=30, color='lime')\\\n",
    "    .format({'RUC Due In Kms': '{0:,.0f} km', 'Service Due In Kms': '{0:,.0f} km'})\n",
    "   \n",
    "# def styling(x):\n",
    "#     if x>0:\n",
    "#         return \"background-colr:lime;\"\n",
    "\n",
    "# df.style.applymap(styling, subset=[\"WOF Renew in days\"])\n",
    "\n",
    "\n"
   ]
  },
  {
   "cell_type": "code",
   "execution_count": null,
   "metadata": {},
   "outputs": [],
   "source": [
    "folder_path_report = Path(r'./report/')\n",
    "file_path = folder_path_report / 'Report.csv'\n",
    "df.to_csv(file_path)"
   ]
  },
  {
   "cell_type": "code",
   "execution_count": null,
   "metadata": {},
   "outputs": [],
   "source": []
  },
  {
   "cell_type": "code",
   "execution_count": null,
   "metadata": {},
   "outputs": [],
   "source": []
  }
 ],
 "metadata": {
  "kernelspec": {
   "display_name": "Python 3",
   "language": "python",
   "name": "python3"
  },
  "language_info": {
   "codemirror_mode": {
    "name": "ipython",
    "version": 3
   },
   "file_extension": ".py",
   "mimetype": "text/x-python",
   "name": "python",
   "nbconvert_exporter": "python",
   "pygments_lexer": "ipython3",
   "version": "3.11.4"
  },
  "orig_nbformat": 4
 },
 "nbformat": 4,
 "nbformat_minor": 2
}
