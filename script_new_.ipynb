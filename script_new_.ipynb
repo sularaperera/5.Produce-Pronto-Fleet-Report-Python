{
 "cells": [
  {
   "cell_type": "markdown",
   "metadata": {},
   "source": [
    "# Code"
   ]
  },
  {
   "cell_type": "code",
   "execution_count": null,
   "metadata": {},
   "outputs": [],
   "source": [
    "import pandas as pd\n",
    "from pathlib import Path\n",
    "import re, glob\n",
    "from datetime import datetime"
   ]
  },
  {
   "cell_type": "code",
   "execution_count": null,
   "metadata": {},
   "outputs": [],
   "source": [
    "folder_path = Path(r'./data/')\n",
    "file = list(folder_path.rglob('*Fleetpin*.csv'))\n",
    "df = pd.read_csv(file[0])\n",
    "selector = ['Name', 'Odo / Hours / Hubo', 'Next Service Due', 'RUC Due', 'WoF Due', 'Rego Due']\n",
    "df = df[selector]"
   ]
  },
  {
   "cell_type": "code",
   "execution_count": null,
   "metadata": {},
   "outputs": [],
   "source": [
    "df"
   ]
  },
  {
   "cell_type": "code",
   "execution_count": null,
   "metadata": {},
   "outputs": [],
   "source": [
    "df.dtypes"
   ]
  },
  {
   "cell_type": "code",
   "execution_count": null,
   "metadata": {},
   "outputs": [],
   "source": [
    "# convert 'WoF Due' and 'Rego Due' data from string to datetime\n",
    "df['WoF Due'] = pd.to_datetime(df['WoF Due'], dayfirst=True)\n",
    "df['Rego Due'] = pd.to_datetime(df['Rego Due'], dayfirst=True)\n",
    "\n",
    "# get today's date for comparison\n",
    "today = datetime.now().date()\n",
    "\n",
    "# date calculations - subtract 'WoF Due' date from today's date to get days remaining for WOF and Rego renewals\n",
    "df['WOF Renew'] = (df['WoF Due'] - pd.Timestamp(today)).dt.days\n",
    "df['Rego Renew'] = (df['Rego Due'] - pd.Timestamp(today)).dt.days"
   ]
  },
  {
   "cell_type": "code",
   "execution_count": null,
   "metadata": {},
   "outputs": [],
   "source": [
    "# cleaning data by removing characters from numbers using regex\n",
    "# df['Odo / Hours / Hubo'] = pd.Series(df['Odo / Hours / Hubo']).str.findall(r'\\d+')\n",
    "df['Odo / Hours / Hubo'] = (df['Odo / Hours / Hubo']).str.findall(r'\\d+')\n",
    "\n",
    "# get rid of list-like structure and to strings where the elements are joined by comma\n",
    "df['Odo / Hours / Hubo'] = [','.join(map(str, l)) for l in df['Odo / Hours / Hubo']]\n",
    "\n",
    "# split values seprated by comma\n",
    "df['ODO'] = df['Odo / Hours / Hubo'].apply(lambda x: x.split(',')[0])\n",
    "df['Hubometer'] = df['Odo / Hours / Hubo'].apply(lambda x: x.split(',')[-1])\n",
    "\n",
    "# get rid of 'km' string at the end\n",
    "df['Next Service Due'] = (df['Next Service Due']).str.strip('km')\n",
    "\n",
    "# use regex to fetch only the numbers\n",
    "df['RUC Due'] = pd.Series(df['RUC Due']).str.findall(r'\\b\\d+\\b')\n",
    "# get rid of list-like structure and to strings where the elements are joined by comma\n",
    "df['RUC Due']  = [','.join(map(str, l)) for l in df['RUC Due'] ]\n",
    "\n",
    "# convert to integer\n",
    "df['Next Service Due'] = df['Next Service Due'].apply(lambda x: int(x))\n",
    "df['RUC Due'] = df['RUC Due'].apply(lambda x: int(x))\n",
    "df['ODO'] = df['ODO'].apply(lambda x: int(x))\n",
    "df['Hubometer'] = df['Hubometer'].apply(lambda x: int(x))\n",
    "\n",
    "# calculations\n",
    "df['RUC Remaining'] = df['RUC Due'] - df['Hubometer']\n",
    "df['Next Service In'] = df['Next Service Due'] - df['ODO']\n"
   ]
  },
  {
   "cell_type": "code",
   "execution_count": null,
   "metadata": {},
   "outputs": [],
   "source": [
    "# change date format\n",
    "df['WoF Due*'] = df['WoF Due'].apply(lambda x: x.strftime('%d-%m-%Y'))\n",
    "df['Rego Due*'] = df['Rego Due'].apply(lambda x: x.strftime('%d-%m-%Y'))"
   ]
  },
  {
   "cell_type": "code",
   "execution_count": null,
   "metadata": {},
   "outputs": [],
   "source": [
    "# re-ordering column\n",
    "df = df[['Name','ODO','Hubometer','Next Service Due','RUC Due','Rego Due*','WoF Due*','Next Service In','WOF Renew','Rego Renew','RUC Remaining']]\n"
   ]
  },
  {
   "cell_type": "code",
   "execution_count": null,
   "metadata": {},
   "outputs": [],
   "source": [
    "df.head()"
   ]
  },
  {
   "cell_type": "code",
   "execution_count": null,
   "metadata": {},
   "outputs": [],
   "source": [
    "df.dtypes"
   ]
  },
  {
   "cell_type": "markdown",
   "metadata": {},
   "source": [
    "# Styling"
   ]
  },
  {
   "cell_type": "code",
   "execution_count": null,
   "metadata": {},
   "outputs": [],
   "source": [
    "df_styled = df.style\\\n",
    "    .applymap(lambda x: 'background-color: %s' % '#ff9966' if x < 0 else ('background-color: %s' % '#99ff99' if 0 <= x <= 5000 else 'background-color: %s' % 'none'), subset=['Next Service In'])\\\n",
    "    .applymap(lambda x: 'background-color: %s' % '#ff9966' if x < 0 else 'background-color: %s' % 'none', subset=['RUC Remaining'])\\\n",
    "    .highlight_between(subset='RUC Remaining',left=0,right=7000, color='#ff9966')\\\n",
    "    .applymap(lambda x: 'background-color: %s' % '#ff9966' if x < 0 else ('background-color: %s' % '#99ff99' if 0 <= x <= 30 else 'background-color: %s' % 'none'), subset=['WOF Renew'])\\\n",
    "    .applymap(lambda x: 'background-color: %s' % '#ff9966' if x < 0 else ('background-color: %s' % '#99ff99' if 0 <= x <= 30 else 'background-color: %s' % 'none'), subset=['Rego Renew'])\\\n",
    "    .format({'RUC Remaining': '{0:,.0f} km', 'Next Service In': '{0:,.0f} km', 'ODO': '{0:,.0f} km', 'Hubometer': '{0:,.0f} km', 'Next Service Due': '{0:,.0f} km', 'RUC Due': '{0:,.0f} km',\n",
    "             'WOF Renew': '{} Days', 'Rego Renew': '{} Days'})\n",
    "\n"
   ]
  },
  {
   "cell_type": "markdown",
   "metadata": {},
   "source": [
    "# Export to excel"
   ]
  },
  {
   "cell_type": "code",
   "execution_count": null,
   "metadata": {},
   "outputs": [],
   "source": [
    "folder_path_report = Path(r'./report/')\n",
    "file_path = folder_path_report / 'Report.xlsx'\n",
    "df_styled.to_excel(file_path, engine='openpyxl', index=False)"
   ]
  },
  {
   "cell_type": "markdown",
   "metadata": {},
   "source": [
    "# Report"
   ]
  },
  {
   "cell_type": "code",
   "execution_count": null,
   "metadata": {},
   "outputs": [],
   "source": [
    "df_styled"
   ]
  }
 ],
 "metadata": {
  "kernelspec": {
   "display_name": "Python 3",
   "language": "python",
   "name": "python3"
  },
  "language_info": {
   "codemirror_mode": {
    "name": "ipython",
    "version": 3
   },
   "file_extension": ".py",
   "mimetype": "text/x-python",
   "name": "python",
   "nbconvert_exporter": "python",
   "pygments_lexer": "ipython3",
   "version": "3.11.4"
  },
  "orig_nbformat": 4
 },
 "nbformat": 4,
 "nbformat_minor": 2
}
